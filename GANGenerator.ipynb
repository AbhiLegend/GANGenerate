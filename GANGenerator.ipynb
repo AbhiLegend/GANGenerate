{
  "nbformat": 4,
  "nbformat_minor": 0,
  "metadata": {
    "colab": {
      "private_outputs": true,
      "provenance": []
    },
    "kernelspec": {
      "name": "python3",
      "display_name": "Python 3"
    },
    "language_info": {
      "name": "python"
    }
  },
  "cells": [
    {
      "cell_type": "code",
      "execution_count": null,
      "metadata": {
        "id": "ZSxZ8-DUtQyb"
      },
      "outputs": [],
      "source": [
        "import numpy as np\n",
        "from sklearn.datasets import fetch_openml\n",
        "from sklearn.preprocessing import MinMaxScaler\n",
        "from sklearn.neural_network import MLPRegressor\n",
        "from sklearn.neural_network import MLPClassifier\n",
        "import joblib"
      ]
    },
    {
      "cell_type": "code",
      "source": [
        "# Load the MNIST dataset\n",
        "mnist = fetch_openml(\"mnist_784\", version=1)\n",
        "\n",
        "# Extract the features (images) and labels\n",
        "X = mnist.data\n",
        "y = mnist.target.astype(int)\n",
        "\n",
        "# Normalize the pixel values to [0, 1]\n",
        "scaler = MinMaxScaler()\n",
        "X_scaled = scaler.fit_transform(X)\n",
        "\n",
        "\n",
        "\n",
        "# Load the generator model from the file when needed\n",
        "loaded_generator = joblib.load('generator_model.pkl')\n",
        "\n",
        "\n",
        "# Change the digit_to_generate variable to 2 (or any digit you want to generate)\n",
        "digit_to_generate = 3\n",
        "\n",
        "# Generate a synthetic digit (digit 2 in this case) using the loaded model\n",
        "synthetic_digit = loaded_generator.predict(X_scaled[y == digit_to_generate][:1])\n",
        "\n",
        "# Rescale pixel values to [0, 255] and convert to integers\n",
        "synthetic_digit = (synthetic_digit * 255).astype(int)\n",
        "\n",
        "# Print the generated synthetic digit (reshape it to 28x28 for visualization)\n",
        "synthetic_digit = synthetic_digit.reshape(28, 28)\n",
        "print(\"Generated Digit from Loaded Model:\")\n",
        "print(synthetic_digit)"
      ],
      "metadata": {
        "id": "w1EOwVo7ud1R"
      },
      "execution_count": null,
      "outputs": []
    }
  ]
}